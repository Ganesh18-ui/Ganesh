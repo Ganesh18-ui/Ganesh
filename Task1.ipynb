{
  "nbformat": 4,
  "nbformat_minor": 0,
  "metadata": {
    "colab": {
      "provenance": []
    },
    "kernelspec": {
      "name": "python3",
      "display_name": "Python 3"
    },
    "language_info": {
      "name": "python"
    }
  },
  "cells": [
    {
      "cell_type": "code",
      "execution_count": 1,
      "metadata": {
        "colab": {
          "base_uri": "https://localhost:8080/",
          "height": 0
        },
        "id": "bSg3Sm7I9P_C",
        "outputId": "bebe8c0e-7c2f-42c0-f4d5-418b577f87a8"
      },
      "outputs": [
        {
          "output_type": "stream",
          "name": "stdout",
          "text": [
            "Initial list: [1, 2, 3, 4, 5]\n",
            "Initial dictionary: {'a': 1, 'b': 2, 'c': 3}\n",
            "Initial set: {1, 2, 3, 4, 5}\n"
          ]
        }
      ],
      "source": [
        "my_list = [1, 2, 3, 4, 5]\n",
        "my_dict = {'a': 1, 'b': 2, 'c': 3}\n",
        "my_set = {1, 2, 3, 4, 5}\n",
        "\n",
        "\n",
        "print(\"Initial list:\", my_list)\n",
        "print(\"Initial dictionary:\", my_dict)\n",
        "print(\"Initial set:\", my_set)\n",
        "\n",
        "\n"
      ]
    },
    {
      "cell_type": "code",
      "source": [
        "my_list.append(6)\n",
        "my_list.remove(3)\n",
        "my_list[0] = 0\n",
        "\n",
        "my_dict['d'] = 4\n",
        "del my_dict['a']\n",
        "my_dict['b'] = 20\n",
        "\n",
        "\n",
        "my_set.add(6)\n",
        "my_set.remove(3)\n",
        "my_set.discard(7)\n",
        "\n",
        "\n",
        "print(\"\\nModified list:\", my_list)\n",
        "print(\"Modified dictionary:\", my_dict)\n",
        "print(\"Modified set:\", my_set)"
      ],
      "metadata": {
        "colab": {
          "base_uri": "https://localhost:8080/",
          "height": 0
        },
        "id": "_74FyECD9YCa",
        "outputId": "e0258d94-bfb0-46ff-9b65-952529d64a56"
      },
      "execution_count": 2,
      "outputs": [
        {
          "output_type": "stream",
          "name": "stdout",
          "text": [
            "\n",
            "Modified list: [0, 2, 4, 5, 6]\n",
            "Modified dictionary: {'b': 20, 'c': 3, 'd': 4}\n",
            "Modified set: {1, 2, 4, 5, 6}\n"
          ]
        }
      ]
    },
    {
      "cell_type": "code",
      "source": [],
      "metadata": {
        "id": "BH7WfTUB9qG5"
      },
      "execution_count": null,
      "outputs": []
    }
  ]
}